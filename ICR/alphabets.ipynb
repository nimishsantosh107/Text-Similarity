{
 "cells": [
  {
   "cell_type": "code",
   "execution_count": 24,
   "metadata": {},
   "outputs": [],
   "source": [
    "import cv2\n",
    "import numpy as np"
   ]
  },
  {
   "cell_type": "code",
   "execution_count": 25,
   "metadata": {},
   "outputs": [],
   "source": [
    "# Load the data, converters convert the letter to a number\n",
    "data= np.loadtxt('alphabets.data', dtype= 'float32', delimiter = ',',\n",
    "                    converters= {0: lambda ch: ord(ch)-ord('A')})"
   ]
  },
  {
   "cell_type": "code",
   "execution_count": 26,
   "metadata": {},
   "outputs": [
    {
     "name": "stdout",
     "output_type": "stream",
     "text": [
      "[[19.  2.  8. ...  8.  0.  8.]\n",
      " [ 8.  5. 12. ...  8.  4. 10.]\n",
      " [ 3.  4. 11. ...  7.  3.  9.]\n",
      " ...\n",
      " [ 9.  5. 11. ...  7.  0.  7.]\n",
      " [22.  4.  9. ... 11.  3.  9.]\n",
      " [16.  5. 10. ...  8.  4.  8.]]\n"
     ]
    }
   ],
   "source": [
    "# split the data to two, 10000 each for train and test\n",
    "train, test = np.vsplit(data,2)\n",
    "print(train)"
   ]
  },
  {
   "cell_type": "code",
   "execution_count": 27,
   "metadata": {},
   "outputs": [
    {
     "name": "stdout",
     "output_type": "stream",
     "text": [
      "[[ 2.  8.  3. ...  8.  0.  8.]\n",
      " [ 5. 12.  3. ...  8.  4. 10.]\n",
      " [ 4. 11.  6. ...  7.  3.  9.]\n",
      " ...\n",
      " [ 5. 11.  7. ...  7.  0.  7.]\n",
      " [ 4.  9.  6. ... 11.  3.  9.]\n",
      " [ 5. 10.  7. ...  8.  4.  8.]]\n",
      "\n",
      "_____\n",
      "\n",
      "[[19.]\n",
      " [ 8.]\n",
      " [ 3.]\n",
      " ...\n",
      " [ 9.]\n",
      " [22.]\n",
      " [16.]]\n"
     ]
    }
   ],
   "source": [
    "# split trainData and testData to features and responses\n",
    "train_labels, train = np.hsplit(train,[1])\n",
    "test_labels, test = np.hsplit(test,[1])\n",
    "print(train)\n",
    "print('\\n_____\\n')\n",
    "print(train_labels)"
   ]
  },
  {
   "cell_type": "markdown",
   "metadata": {},
   "source": [
    "## TRAINING"
   ]
  },
  {
   "cell_type": "code",
   "execution_count": 28,
   "metadata": {},
   "outputs": [
    {
     "data": {
      "text/plain": [
       "True"
      ]
     },
     "execution_count": 28,
     "metadata": {},
     "output_type": "execute_result"
    }
   ],
   "source": [
    "# Initiate kNN, train the data, then test it with test data for k=1\n",
    "knn = cv2.ml.KNearest_create()\n",
    "knn.train(train,cv2.ml.ROW_SAMPLE,train_labels)\n",
    "#TEST WITH knn.findNearest(2DpArr , k=5)"
   ]
  },
  {
   "cell_type": "markdown",
   "metadata": {},
   "source": [
    "## TESTING ACCURACY"
   ]
  },
  {
   "cell_type": "code",
   "execution_count": 30,
   "metadata": {},
   "outputs": [
    {
     "name": "stdout",
     "output_type": "stream",
     "text": [
      "93.06\n"
     ]
    }
   ],
   "source": [
    "ret, result, neighbours, dist = knn.findNearest(test, k=5)\n",
    "correct = np.count_nonzero(result == labels)\n",
    "accuracy = correct*100.0/10000\n",
    "print (accuracy)"
   ]
  },
  {
   "cell_type": "markdown",
   "metadata": {},
   "source": [
    "## SAVING AND LOADING"
   ]
  },
  {
   "cell_type": "code",
   "execution_count": 31,
   "metadata": {},
   "outputs": [],
   "source": [
    "np.savez('alphabets_data.npz',train=train, train_labels=train_labels)"
   ]
  },
  {
   "cell_type": "code",
   "execution_count": 32,
   "metadata": {},
   "outputs": [
    {
     "name": "stdout",
     "output_type": "stream",
     "text": [
      "['train', 'train_labels']\n"
     ]
    }
   ],
   "source": [
    "with np.load('alphabets_data.npz') as data:\n",
    "    print (data.files)\n",
    "    train = data['train']\n",
    "    train_labels = data['train_labels']"
   ]
  },
  {
   "cell_type": "code",
   "execution_count": 34,
   "metadata": {},
   "outputs": [
    {
     "name": "stdout",
     "output_type": "stream",
     "text": [
      "[[ 2.  8.  3. ...  8.  0.  8.]\n",
      " [ 5. 12.  3. ...  8.  4. 10.]\n",
      " [ 4. 11.  6. ...  7.  3.  9.]\n",
      " ...\n",
      " [ 5. 11.  7. ...  7.  0.  7.]\n",
      " [ 4.  9.  6. ... 11.  3.  9.]\n",
      " [ 5. 10.  7. ...  8.  4.  8.]]\n",
      "\n",
      "_____\n",
      "\n",
      "[[19.]\n",
      " [ 8.]\n",
      " [ 3.]\n",
      " ...\n",
      " [ 9.]\n",
      " [22.]\n",
      " [16.]]\n"
     ]
    }
   ],
   "source": [
    "print (train)\n",
    "print('\\n_____\\n')\n",
    "print(train_labels)"
   ]
  },
  {
   "cell_type": "code",
   "execution_count": null,
   "metadata": {},
   "outputs": [],
   "source": [
    "###END###"
   ]
  }
 ],
 "metadata": {
  "kernelspec": {
   "display_name": "Python 3",
   "language": "python",
   "name": "python3"
  },
  "language_info": {
   "codemirror_mode": {
    "name": "ipython",
    "version": 3
   },
   "file_extension": ".py",
   "mimetype": "text/x-python",
   "name": "python",
   "nbconvert_exporter": "python",
   "pygments_lexer": "ipython3",
   "version": "3.7.1"
  }
 },
 "nbformat": 4,
 "nbformat_minor": 2
}
