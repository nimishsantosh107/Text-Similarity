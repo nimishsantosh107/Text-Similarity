{
 "cells": [
  {
   "cell_type": "code",
   "execution_count": 18,
   "metadata": {},
   "outputs": [
    {
     "ename": "ImportError",
     "evalue": "cannot import name 'mainCompare' from 'modules.main' (/Users/nimish/Desktop/Angel/TXTSIM/modules/main.py)",
     "output_type": "error",
     "traceback": [
      "\u001b[0;31m---------------------------------------------------------------------------\u001b[0m",
      "\u001b[0;31mImportError\u001b[0m                               Traceback (most recent call last)",
      "\u001b[0;32m<ipython-input-18-edecc34f4259>\u001b[0m in \u001b[0;36m<module>\u001b[0;34m\u001b[0m\n\u001b[1;32m      1\u001b[0m \u001b[0;32mfrom\u001b[0m \u001b[0mmodules\u001b[0m\u001b[0;34m.\u001b[0m\u001b[0mcompare\u001b[0m \u001b[0;32mimport\u001b[0m \u001b[0mtagSentence\u001b[0m\u001b[0;34m,\u001b[0m \u001b[0mfindSynonyms\u001b[0m\u001b[0;34m,\u001b[0m \u001b[0mcompare\u001b[0m\u001b[0;34m,\u001b[0m \u001b[0mis_active\u001b[0m\u001b[0;34m,\u001b[0m \u001b[0mcheckOrderOfNoun\u001b[0m\u001b[0;34m,\u001b[0m \u001b[0mcheckOrderOfAdjective\u001b[0m\u001b[0;34m\u001b[0m\u001b[0;34m\u001b[0m\u001b[0m\n\u001b[1;32m      2\u001b[0m \u001b[0;32mfrom\u001b[0m \u001b[0mmodules\u001b[0m\u001b[0;34m.\u001b[0m\u001b[0mmetrics\u001b[0m \u001b[0;32mimport\u001b[0m \u001b[0msimCheck\u001b[0m\u001b[0;34m\u001b[0m\u001b[0;34m\u001b[0m\u001b[0m\n\u001b[0;32m----> 3\u001b[0;31m \u001b[0;32mfrom\u001b[0m \u001b[0mmodules\u001b[0m\u001b[0;34m.\u001b[0m\u001b[0mmain\u001b[0m \u001b[0;32mimport\u001b[0m \u001b[0mmainCompare\u001b[0m\u001b[0;34m\u001b[0m\u001b[0;34m\u001b[0m\u001b[0m\n\u001b[0m\u001b[1;32m      4\u001b[0m \u001b[0;31m# ###MANUAL IMPORTING\u001b[0m\u001b[0;34m\u001b[0m\u001b[0;34m\u001b[0m\u001b[0;34m\u001b[0m\u001b[0m\n\u001b[1;32m      5\u001b[0m \u001b[0;31m# ##SPACE IMPORTS\u001b[0m\u001b[0;34m\u001b[0m\u001b[0;34m\u001b[0m\u001b[0;34m\u001b[0m\u001b[0m\n",
      "\u001b[0;31mImportError\u001b[0m: cannot import name 'mainCompare' from 'modules.main' (/Users/nimish/Desktop/Angel/TXTSIM/modules/main.py)"
     ]
    }
   ],
   "source": [
    "from modules.compare import tagSentence, findSynonyms, compare, is_active, checkOrderOfNoun, checkOrderOfAdjective\n",
    "from modules.metrics import simCheck\n",
    "from modules.main import mainCompare\n",
    "# ###MANUAL IMPORTING\n",
    "# ##SPACE IMPORTS\n",
    "# import spacy\n",
    "# nlp = spacy.load(\"en_core_web_lg\")\n",
    "# from spacy.matcher import Matcher\n",
    "# matcher = Matcher(nlp.vocab)\n",
    "# ##NLTK IMPORTS\n",
    "# from nltk.corpus import wordnet\n",
    "# from num2words import num2words\n",
    "# ##OTHER IMPORTS"
   ]
  },
  {
   "cell_type": "code",
   "execution_count": 4,
   "metadata": {},
   "outputs": [],
   "source": [
    "#POS based synonym\n",
    "####Previous gender pronoun\n",
    "#Antonym\n",
    "#Subject swap"
   ]
  },
  {
   "cell_type": "markdown",
   "metadata": {},
   "source": [
    "# Running"
   ]
  },
  {
   "cell_type": "code",
   "execution_count": 19,
   "metadata": {},
   "outputs": [],
   "source": [
    "sent1 = \"stupid Jake's awesome computer is executing the three programs marvellously\"\n",
    "sent2 = \"the 3 programs are being run by Jake's amazing calculator wonderfully\""
   ]
  },
  {
   "cell_type": "code",
   "execution_count": 20,
   "metadata": {},
   "outputs": [],
   "source": [
    "object1 = tagSentence(sent1)\n",
    "object2 = tagSentence(sent2)\n",
    "#OBJECT1 #TEACHER OBJECT NOT TO BE SYNONYMIZED - TO CHECK IF EVERYTHING IS PRESENT\n",
    "object2 = findSynonyms(object2)"
   ]
  },
  {
   "cell_type": "code",
   "execution_count": 21,
   "metadata": {},
   "outputs": [
    {
     "data": {
      "text/plain": [
       "False"
      ]
     },
     "execution_count": 21,
     "metadata": {},
     "output_type": "execute_result"
    }
   ],
   "source": [
    "is_active(\"the book was read by me\")"
   ]
  },
  {
   "cell_type": "markdown",
   "metadata": {},
   "source": [
    "## Compare and check against object1(teacher key)"
   ]
  },
  {
   "cell_type": "code",
   "execution_count": 22,
   "metadata": {},
   "outputs": [
    {
     "name": "stdout",
     "output_type": "stream",
     "text": [
      "{'teachMark': {'NOUN': 2, 'PROPN': 1, 'PRON': 0, 'VERB': 1, 'ADJ': 2, 'ADV': 1, 'SYM': 0, 'NUM': 1, 'X': 0}, 'studMark': {'NOUN': 2, 'PROPN': 1, 'VERB': 1, 'ADJ': 1, 'ADV': 1, 'NUM': 1}}\n"
     ]
    }
   ],
   "source": [
    "result , newSent2 = compare(sent1,sent2)\n",
    "print(result)"
   ]
  },
  {
   "cell_type": "code",
   "execution_count": 15,
   "metadata": {},
   "outputs": [
    {
     "data": {
      "text/plain": [
       "True"
      ]
     },
     "execution_count": 15,
     "metadata": {},
     "output_type": "execute_result"
    }
   ],
   "source": [
    "checkOrderOfNoun(sent1,newSent2)\n",
    "#to be TRUE"
   ]
  },
  {
   "cell_type": "code",
   "execution_count": 16,
   "metadata": {},
   "outputs": [
    {
     "data": {
      "text/plain": [
       "False"
      ]
     },
     "execution_count": 16,
     "metadata": {},
     "output_type": "execute_result"
    }
   ],
   "source": [
    "checkOrderOfAdjective(sent1,newSent2) \n",
    "#to be FALSE"
   ]
  },
  {
   "cell_type": "markdown",
   "metadata": {},
   "source": [
    "## CHECK"
   ]
  },
  {
   "cell_type": "code",
   "execution_count": 17,
   "metadata": {},
   "outputs": [
    {
     "data": {
      "text/plain": [
       "0.9125"
      ]
     },
     "execution_count": 17,
     "metadata": {},
     "output_type": "execute_result"
    }
   ],
   "source": [
    "simCheck(result)"
   ]
  },
  {
   "cell_type": "code",
   "execution_count": null,
   "metadata": {},
   "outputs": [],
   "source": [
    "###END###"
   ]
  }
 ],
 "metadata": {
  "kernelspec": {
   "display_name": "Python 3",
   "language": "python",
   "name": "python3"
  }
 },
 "nbformat": 4,
 "nbformat_minor": 2
}
