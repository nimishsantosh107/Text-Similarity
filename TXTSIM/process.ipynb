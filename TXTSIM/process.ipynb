{
 "cells": [
  {
   "cell_type": "code",
   "execution_count": 2,
   "metadata": {},
   "outputs": [],
   "source": [
    "from modules.compare import tagSentence, findSynonyms, compare, is_active, checkOrderOfNoun, checkOrderOfAdjective\n",
    "\n",
    "# ###MANUAL IMPORTING\n",
    "# ##SPACE IMPORTS\n",
    "# import spacy\n",
    "# nlp = spacy.load(\"en_core_web_lg\")\n",
    "# from spacy.matcher import Matcher\n",
    "# matcher = Matcher(nlp.vocab)\n",
    "# ##NLTK IMPORTS\n",
    "# from nltk.corpus import wordnet\n",
    "# from num2words import num2words\n",
    "# ##OTHER IMPORTS"
   ]
  },
  {
   "cell_type": "code",
   "execution_count": 3,
   "metadata": {},
   "outputs": [],
   "source": [
    "#POS based synonym\n",
    "####Previous gender pronoun\n",
    "#Antonym\n",
    "#Subject swap"
   ]
  },
  {
   "cell_type": "markdown",
   "metadata": {},
   "source": [
    "# Running"
   ]
  },
  {
   "cell_type": "code",
   "execution_count": 4,
   "metadata": {},
   "outputs": [],
   "source": [
    "sent1 = \"stupid Jake's awesome computer is executing the three programs marvellously\"\n",
    "sent2 = \"the 3 programs are being run by Jake's amazing calculator wonderfully\""
   ]
  },
  {
   "cell_type": "code",
   "execution_count": 5,
   "metadata": {},
   "outputs": [],
   "source": [
    "object1 = tagSentence(sent1)\n",
    "object2 = tagSentence(sent2)\n",
    "#OBJECT1 #TEACHER OBJECT NOT TO BE SYNONYMIZED - TO CHECK IF EVERYTHING IS PRESENT\n",
    "object2 = findSynonyms(object2)"
   ]
  },
  {
   "cell_type": "markdown",
   "metadata": {},
   "source": [
    "## Compare and check against object1(teacher key)"
   ]
  },
  {
   "cell_type": "code",
   "execution_count": 6,
   "metadata": {},
   "outputs": [
    {
     "name": "stdout",
     "output_type": "stream",
     "text": [
      "NOUN:  2\n",
      "PROPN:  1\n",
      "PRON:  0\n",
      "VERB:  1\n",
      "ADJ:  2\n",
      "ADV:  1\n",
      "NUM:  1\n",
      "SYM:  0\n",
      "X:  0\n"
     ]
    }
   ],
   "source": [
    "print(\"NOUN: \",len(object1[\"NOUN\"]))\n",
    "print(\"PROPN: \",len(object1[\"PROPN\"]))\n",
    "print(\"PRON: \",len(object1[\"PRON\"]))\n",
    "print(\"VERB: \",len(object1[\"VERB\"]))\n",
    "print(\"ADJ: \",len(object1[\"ADJ\"]))\n",
    "print(\"ADV: \",len(object1[\"ADV\"]))\n",
    "print(\"NUM: \",len(object1[\"NUM\"]))\n",
    "print(\"SYM: \",len(object1[\"SYM\"]))\n",
    "print(\"X: \",len(object1[\"X\"]))"
   ]
  },
  {
   "cell_type": "code",
   "execution_count": 7,
   "metadata": {},
   "outputs": [
    {
     "name": "stdout",
     "output_type": "stream",
     "text": [
      "{'NOUN': 2, 'PROPN': 1, 'VERB': 1, 'ADJ': 1, 'ADV': 1, 'NUM': 1}\n"
     ]
    }
   ],
   "source": [
    "result , newSent2 = compare(object1,object2,sent2)\n",
    "print(result)"
   ]
  },
  {
   "cell_type": "code",
   "execution_count": 8,
   "metadata": {},
   "outputs": [
    {
     "data": {
      "text/plain": [
       "True"
      ]
     },
     "execution_count": 8,
     "metadata": {},
     "output_type": "execute_result"
    }
   ],
   "source": [
    "checkOrderOfNoun(sent1,newSent2)\n",
    "#to be TRUE"
   ]
  },
  {
   "cell_type": "code",
   "execution_count": 9,
   "metadata": {},
   "outputs": [
    {
     "data": {
      "text/plain": [
       "False"
      ]
     },
     "execution_count": 9,
     "metadata": {},
     "output_type": "execute_result"
    }
   ],
   "source": [
    "checkOrderOfAdjective(sent1,newSent2) \n",
    "#to be FALSE"
   ]
  },
  {
   "cell_type": "code",
   "execution_count": 9,
   "metadata": {},
   "outputs": [
    {
     "data": {
      "text/plain": [
       "False"
      ]
     },
     "execution_count": 9,
     "metadata": {},
     "output_type": "execute_result"
    }
   ],
   "source": [
    "is_active(\"the book was read\")"
   ]
  },
  {
   "cell_type": "code",
   "execution_count": null,
   "metadata": {},
   "outputs": [],
   "source": []
  },
  {
   "cell_type": "code",
   "execution_count": null,
   "metadata": {},
   "outputs": [],
   "source": [
    "###END###"
   ]
  }
 ],
 "metadata": {
  "kernelspec": {
   "display_name": "Python 3",
   "language": "python",
   "name": "python3"
  },
  "language_info": {
   "codemirror_mode": {
    "name": "ipython",
    "version": 3
   },
   "file_extension": ".py",
   "mimetype": "text/x-python",
   "name": "python",
   "nbconvert_exporter": "python",
   "pygments_lexer": "ipython3",
   "version": "3.7.1"
  }
 },
 "nbformat": 4,
 "nbformat_minor": 2
}
